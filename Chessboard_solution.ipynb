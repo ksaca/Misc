{
 "cells": [
  {
   "cell_type": "markdown",
   "metadata": {},
   "source": [
    "### Setting up the Class"
   ]
  },
  {
   "cell_type": "code",
   "execution_count": 1,
   "metadata": {},
   "outputs": [],
   "source": [
    "# importing library to enable randomness in population creation\n",
    "\n",
    "import random"
   ]
  },
  {
   "cell_type": "code",
   "execution_count": 2,
   "metadata": {},
   "outputs": [],
   "source": [
    "# creating the class with appropriate methods to address various functionalies\n",
    "# required for finding the solution\n",
    "\n",
    "class Chess:\n",
    "\n",
    "# method to initialize the class with empty board\n",
    "    \n",
    "    def __init__(self):\n",
    "        self.board=self.createboard()\n",
    "        self.solution=[]        \n",
    "        self.population=[]\n",
    "        \n",
    "# method to create 8*8 chess board        \n",
    "        \n",
    "    def createboard(self):\n",
    "        board = [[0 for i in range(8)] for i in range(8)]\n",
    "        return board  \n",
    "    \n",
    "# method to populate the board with appropriate placement of queens as given in parameter      \n",
    "    \n",
    "    def populateboard(self,options):\n",
    "        board = self.createboard()\n",
    "        for i in range(len(board)):\n",
    "            board[options[i]][i] = 1\n",
    "        return board\n",
    "    \n",
    "# method to create initial population,using random, with size given in parameter \n",
    "\n",
    "    def createpopulation(self,N):\n",
    "        for i in range(N):\n",
    "            self.population.append(random.sample(range(0, 8), 8))\n",
    "\n",
    "            \n",
    "# method to validate queen position and score the number of potential attack possibilities\n",
    "# if score is 0 it means that there are no attack possibilities\n",
    "\n",
    "    def score(self,options):\n",
    "\n",
    "        score = 0\n",
    "        board = self.populateboard(options)\n",
    "        col = 0\n",
    "\n",
    "        for queen in options:\n",
    "            \n",
    "            # checking rows to the left of the square where queen is placed\n",
    "            \n",
    "            for i in range(col-1,-1,-1):\n",
    "                if board[queen][i] == 1:\n",
    "                    score+=1\n",
    "            \n",
    "            # checking diagonal above to the left of the square where queen is placed\n",
    "                    \n",
    "            for i,j in zip(range(queen-1,-1,-1),range(col-1,-1,-1)):\n",
    "                if board[i][j] == 1:\n",
    "                    score+=1\n",
    "            \n",
    "            # checking diagonal below to the left of the square where queen is placed                    \n",
    "                    \n",
    "            for i,j in zip(range(queen+1,8,1),range(col-1,-1,-1)):\n",
    "                if board[i][j] == 1:\n",
    "                    score+=1\n",
    "            col+=1\n",
    "        return score            \n",
    "\n",
    "# method to create crossover by swapping first 4 positions in a selected pair     \n",
    "    \n",
    "    def createcrossover(self,opt1,opt2):\n",
    "        for i in range(4):\n",
    "            opt1[i],opt2[i] = opt2[i],opt1[i]  \n",
    "            \n",
    "# method to create mutation by populating new option with new value not present in existing option\n",
    "# and also populate value 0-7 is its missing in the newoption\n",
    "\n",
    "    def createmutation(self,opt):\n",
    "        newopt = []\n",
    "        for queen in opt:\n",
    "            if queen not in newopt:\n",
    "                newopt.append(queen)\n",
    "        for i in range(8):\n",
    "            if i not in newopt:\n",
    "                newopt.append(i)\n",
    "        opt = newopt\n",
    "        return opt\n",
    "\n",
    "# method to remove duplicates among population     \n",
    "    \n",
    "    def removeduplicate(self):\n",
    "        result=[]\n",
    "        result_str=[]\n",
    "        for i in range(len(self.population)):\n",
    "            ltos = ''.join(map(str,self.population[i]))\n",
    "            if str(bool([ele for ele in result_str if (ele in ltos)]))=='False':\n",
    "                result_str.append(ltos)        \n",
    "                result.append(self.population[i])    \n",
    "        self.population = result\n",
    "\n",
    "        \n",
    "# method to transform the population by crossover and mutation \n",
    "        \n",
    "    def transformpopulation(self):\n",
    "        for i in range(1,len(self.population),2):\n",
    "            opt1 = self.population[i-1][:]\n",
    "            opt2 = self.population[i][:]\n",
    "            self.createcrossover(opt1,opt2)\n",
    "            opt1 = self.createmutation(opt1)\n",
    "            opt2 = self.createmutation(opt2)\n",
    "            self.population.append(opt1)\n",
    "            self.population.append(opt2)\n",
    "        \n",
    "# method to filter and limit the new generation population size to input parameter based on the score\n",
    "        \n",
    "    def filterpopulation(self,N):\n",
    "        popscore = []\n",
    "        newpop = []\n",
    "        for opt in self.population:\n",
    "            optscore = self.score(opt)\n",
    "            popscore.append(optscore)            \n",
    "        newpop =[x for x,_ in sorted (zip(self.population,popscore),key=lambda x:x[1])]    \n",
    "        del newpop [N:]\n",
    "        return newpop\n",
    "\n",
    "# method to find solution \n",
    "# Solution is first attemped in the initial population by evaluating the score\n",
    "# If there is no solution possible, then next generation is created by transformation(crossover and mutation)\n",
    "# This cycle goes on till solution is identified\n",
    "\n",
    "    def generatesolution(self,N):\n",
    "        self.createpopulation(N)\n",
    "        for opt in self.population:\n",
    "            if self.score(opt)==0:\n",
    "                self.solution.append(opt)\n",
    "                print('The solution identified @ Initial Population is:')                \n",
    "                return opt\n",
    "        count = 0\n",
    "        while True and count <=100:\n",
    "            self.transformpopulation()\n",
    "            self.removeduplicate()\n",
    "            self.population = self.filterpopulation(N)\n",
    "            for opt in self.population:\n",
    "                if self.score(opt)==0:\n",
    "                    self.solution.append(opt)\n",
    "                    print('The solution is identified @ Generation no:',count+2,' and the queen position is:')\n",
    "                    return opt\n",
    "                else:\n",
    "                    continue \n",
    "            count +=1 \n",
    "        if len(self.solution)==0:\n",
    "            print('Unable to find solution')"
   ]
  },
  {
   "cell_type": "markdown",
   "metadata": {},
   "source": [
    "### Executing the solution and validating the result"
   ]
  },
  {
   "cell_type": "code",
   "execution_count": 3,
   "metadata": {},
   "outputs": [
    {
     "name": "stdout",
     "output_type": "stream",
     "text": [
      "The solution is identified @ Generation no: 2  and the queen position is:\n"
     ]
    },
    {
     "data": {
      "text/plain": [
       "[2, 0, 6, 4, 7, 1, 3, 5]"
      ]
     },
     "execution_count": 3,
     "metadata": {},
     "output_type": "execute_result"
    }
   ],
   "source": [
    "# Initiate the class and calling the method to generate solution\n",
    "\n",
    "myboard=Chess()\n",
    "myboard.generatesolution(N=100)"
   ]
  },
  {
   "cell_type": "code",
   "execution_count": 4,
   "metadata": {},
   "outputs": [
    {
     "name": "stdout",
     "output_type": "stream",
     "text": [
      "Solution Board:\n"
     ]
    },
    {
     "data": {
      "text/plain": [
       "[[0, 1, 0, 0, 0, 0, 0, 0],\n",
       " [0, 0, 0, 0, 0, 1, 0, 0],\n",
       " [1, 0, 0, 0, 0, 0, 0, 0],\n",
       " [0, 0, 0, 0, 0, 0, 1, 0],\n",
       " [0, 0, 0, 1, 0, 0, 0, 0],\n",
       " [0, 0, 0, 0, 0, 0, 0, 1],\n",
       " [0, 0, 1, 0, 0, 0, 0, 0],\n",
       " [0, 0, 0, 0, 1, 0, 0, 0]]"
      ]
     },
     "execution_count": 4,
     "metadata": {},
     "output_type": "execute_result"
    }
   ],
   "source": [
    "# populating the board with the solution generated\n",
    "\n",
    "print('Solution Board:')\n",
    "myboard.populateboard(myboard.solution[0])"
   ]
  },
  {
   "cell_type": "code",
   "execution_count": 5,
   "metadata": {},
   "outputs": [
    {
     "name": "stdout",
     "output_type": "stream",
     "text": [
      "Score for the solution is: 0\n"
     ]
    }
   ],
   "source": [
    "# validating the solution. score should be 0\n",
    "\n",
    "print('Score for the solution is:',myboard.score(myboard.solution[0]))"
   ]
  },
  {
   "cell_type": "code",
   "execution_count": null,
   "metadata": {},
   "outputs": [],
   "source": []
  }
 ],
 "metadata": {
  "kernelspec": {
   "display_name": "Python 3",
   "language": "python",
   "name": "python3"
  },
  "language_info": {
   "codemirror_mode": {
    "name": "ipython",
    "version": 3
   },
   "file_extension": ".py",
   "mimetype": "text/x-python",
   "name": "python",
   "nbconvert_exporter": "python",
   "pygments_lexer": "ipython3",
   "version": "3.7.7"
  }
 },
 "nbformat": 4,
 "nbformat_minor": 4
}
